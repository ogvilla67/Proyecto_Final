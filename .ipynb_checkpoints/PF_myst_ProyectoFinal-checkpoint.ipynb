{
 "cells": [
  {
   "cell_type": "markdown",
   "metadata": {},
   "source": [
    "<img style=\"float: right; margin: 0px 0px 15px 15px;\" src=\"https://upload.wikimedia.org/wikipedia/commons/d/db/Logo_ITESO_normal.jpg\" width=\"150px\" height=\"90px\" />\n",
    "\n",
    "## Microestructuras y sistemas de trading\n",
    "\n",
    "### Proyecto Final.\n",
    "\n",
    ">##### Emilio de la Torre Jiménez\n",
    ">##### Carlos Eduardo Ochoa\n",
    ">##### Diego Velasco\n",
    ">##### Oscar Villa"
   ]
  },
  {
   "cell_type": "markdown",
   "metadata": {},
   "source": [
    "### Objetivo:\n",
    "\n",
    "Diseñar una estrategia de trading con base a la reacción del precio ante el comunicado de indicadores macroeconómicos (Análisis fundamental)."
   ]
  },
  {
   "cell_type": "code",
   "execution_count": 2,
   "metadata": {},
   "outputs": [],
   "source": [
    "#Importar librerías\n",
    "import pandas as pd\n",
    "import numpy as np\n",
    "import plotly.graph_objs as go\n",
    "from plotly.subplots import make_subplots\n",
    "from plotly.offline import download_plotlyjs, init_notebook_mode, plot, iplot\n",
    "import plotly.offline as py"
   ]
  },
  {
   "cell_type": "code",
   "execution_count": 5,
   "metadata": {},
   "outputs": [],
   "source": [
    "#Leemos los archivos indicados\n",
    "cal=pd.read_csv('calendario_economico.csv', header=0, sep=',', index_col=None, parse_dates=False, skip_blank_lines=True)\n",
    "cal['timestamp'] = pd.to_datetime(cal['timestamp'])\n",
    "cal['timestamp'] = cal['timestamp'].dt.tz_localize('UTC')\n",
    "   \n",
    "precios=pd.read_csv('precios_historicos_eurusd.csv', header=0, sep=',', index_col=None, parse_dates=False, skip_blank_lines=True)\n",
    "precios['timestamp'] = pd.to_datetime(precios['timestamp'])\n",
    "precios['timestamp'] = precios['timestamp'].dt.tz_localize('UTC')"
   ]
  },
  {
   "cell_type": "code",
   "execution_count": 6,
   "metadata": {},
   "outputs": [],
   "source": [
    "def analisis(evento):\n",
    "    \n",
    "    #Filtrar el evento en el Calendario Economico\n",
    "    tb  = cal[(cal['Name'] == evento) & (cal['Currency'] == 'USD')].reset_index(drop=True).dropna(subset=['actual']).fillna(method='ffill',axis=1)\n",
    "\n",
    "    #Formar los cuatro grupos; A,B,C,D clasificandolas en el criterio:\n",
    "    # A Actual >= Consensus >= Previous\n",
    "    # B Actual >= Consensus < Previous\n",
    "    # C Actual < Consensus >= Previous\n",
    "    # D Actual < Consensus < Previous    \n",
    "    condiciones = [(tb.actual>=tb.consensus) & (tb.consensus>=tb.previous),(tb.actual>=tb.consensus) & (tb.consensus<tb.previous)\n",
    "                  ,(tb.actual<tb.consensus)&(tb.consensus>=tb.previous),(tb.actual<tb.consensus)&(tb.consensus<tb.previous)]\n",
    "    elecciones =['a','b','c','d']\n",
    "    clasification=np.select(condiciones,elecciones)\n",
    "    tb['clasificacion']=clasification \n",
    "    \n",
    "    #Elimina las fechas del calendario que no esten en el dataFrame de precios.\n",
    "    tb=tb[tb['timestamp'].isin(list(precios['timestamp']))]\n",
    "    \n",
    "    #Crear ventanas de tiempo de media hora antes y media hora después de cada evento del calendario economico.   \n",
    "    ventanas_tb={}\n",
    "    for i in range(len(tb)):\n",
    "        ind=int(precios[precios['timestamp']==tb.iloc[i,0]].index.values.astype(int))\n",
    "        ventana = precios.iloc[ind-6:ind+7].reset_index(drop=True)\n",
    "        ventanas_tb[tb.iloc[i,0]]=ventana \n",
    "        \n",
    "    #Calcular las 4 metricas y agregarlos a los Data Frames:\n",
    "    # (Dirección) Close (t_30) - Open(t_0)\n",
    "    # (Pips Alcistas) High(t_0 : t_30) – Open(t_0)\n",
    "    # (Pips Bajistas) Open(t_0) – Low(t_0 : t_30)\n",
    "    # (Volatilidad) High(t_-30 : t_30) , - mínimo low (t_-30:t_30)    \n",
    "    d  = []\n",
    "    pa = []\n",
    "    pb = []\n",
    "    v  = []\n",
    "\n",
    "    for i in range(len(tb)): \n",
    "        temp     = ventanas_tb[tb.iloc[i,0]]\n",
    "        dtemp    = temp.iloc[-1,4] - temp.iloc[6,1]\n",
    "        pipatemp = max(temp.iloc[6:-1,2]) - temp.iloc[6,1]\n",
    "        pipbtemp = temp.iloc[6,1] - min(temp.iloc[6:-1,3])\n",
    "        voltemp  = max(temp.iloc[:,2]) - min(temp.iloc[:,3])\n",
    "\n",
    "        d.append(dtemp)\n",
    "        pa.append(pipatemp)\n",
    "        pb.append(pipbtemp)\n",
    "        v.append(voltemp)\n",
    "\n",
    "    tb['d']  = d\n",
    "    tb['pa'] = pa\n",
    "    tb['pb'] = pb\n",
    "    tb['v']  = v\n",
    "\n",
    "    #codigo para graficar las clasificaciones en barras\n",
    "    fig = go.Figure()\n",
    "    fig = make_subplots()\n",
    "    fig.add_trace(go.Bar(x=list(tb['clasificacion'].value_counts().sort_index().index), \n",
    "                         y=tb['clasificacion'].value_counts().sort_index(),name='Conteo',\n",
    "                             hovertemplate = '<i>Casos</i>: %{y}'\n",
    "                            '<br><b>Identificador</b>: %{x}<br>'),secondary_y=False)\n",
    "    # Título del grafico\n",
    "    fig.update_layout(title_text='Escenarios')\n",
    "\n",
    "    # Titulo eje x\n",
    "    fig.update_xaxes(title_text='Escenarios')\n",
    "\n",
    "    # Titulo eje y\n",
    "    fig.update_yaxes(title_text='<b>Conteo</b> de escenarios', secondary_y=False)\n",
    "\n",
    "    grafica=fig    \n",
    "\n",
    "    return tb, grafica"
   ]
  },
  {
   "cell_type": "code",
   "execution_count": null,
   "metadata": {},
   "outputs": [],
   "source": []
  }
 ],
 "metadata": {
  "kernelspec": {
   "display_name": "Python 3",
   "language": "python",
   "name": "python3"
  },
  "language_info": {
   "codemirror_mode": {
    "name": "ipython",
    "version": 3
   },
   "file_extension": ".py",
   "mimetype": "text/x-python",
   "name": "python",
   "nbconvert_exporter": "python",
   "pygments_lexer": "ipython3",
   "version": "3.7.0"
  }
 },
 "nbformat": 4,
 "nbformat_minor": 2
}
